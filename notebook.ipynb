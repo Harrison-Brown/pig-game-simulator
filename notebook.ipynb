{
 "cells": [
  {
   "cell_type": "code",
   "execution_count": 45,
   "metadata": {},
   "outputs": [],
   "source": [
    "import random\n",
    "from pig_logger import logger\n",
    "\n",
    "\n",
    "class PigPlayer:\n",
    "    def __init__(self, **kwargs) -> None:\n",
    "        self.score = 0\n",
    "        self.__dict__.update(kwargs)\n",
    "\n",
    "    def keep_rolling(self) -> bool:\n",
    "        if sum(self.turn_rolls) > 21:\n",
    "            return False\n",
    "\n",
    "    def roll(self):\n",
    "        logger.info(f\"{self} is rolling\")\n",
    "\n",
    "        self.turn_rolls = [random.randint(1, 6)]\n",
    "        logger.info(f\"{self} rolled a {self.turn_rolls[0]}\")\n",
    "\n",
    "        if self.turn_rolls[0] in self.game.excluded_numbers:\n",
    "            logger.info(f\"{self} rolled an excluded number\")\n",
    "            return 0\n",
    "        \n",
    "        while self.keep_rolling():\n",
    "            logger.info(f\"{self} is rolling again\")\n",
    "            self.turn_rolls.append(random.randint(1, 6))\n",
    "            if self.turn_rolls[-1] in self.game.excluded_numbers:\n",
    "                return 0\n",
    "        return sum(self.turn_rolls)\n",
    "    \n",
    "    def __repr__(self):\n",
    "        attrs = \", \".join(f\"{k}={v!r}\" for k, v in self.__dict__.items() if k not in ('score', 'turn_rolls', 'game'))\n",
    "        return f\"{self.__class__.__name__}({attrs})\"\n",
    "\n",
    "\n",
    "\n",
    "class PigGame:\n",
    "    def __init__(self, player1: PigPlayer, player2: PigPlayer, excluded_numbers: list) -> None:\n",
    "        player1.game = self\n",
    "        player2.game = self\n",
    "        self.players = [player1, player2]\n",
    "    \n",
    "        self.current_player = random.choice(self.players)\n",
    "        self.excluded_numbers = excluded_numbers\n",
    "\n",
    "    @property\n",
    "    def other_player(self) -> PigPlayer:\n",
    "        return self.players[0] if self.players[1] == self.current_player else self.players[1]\n",
    "    \n",
    "    def swap_players(self) -> None:\n",
    "        self.current_player, self.other_player = self.other_player, self.current_player    \n",
    "\n",
    "\n",
    "class RollNTimesPlayer(PigPlayer):\n",
    "    def __init__(self, n_rolls: int) -> None:\n",
    "        super().__init__(n_rolls = n_rolls)\n",
    "        # self.n_rolls = n_rolls\n",
    "\n",
    "    def keep_rolling(self) -> bool:\n",
    "        super().keep_rolling()\n",
    "        return len(self.turn_rolls) < self.n_rolls\n",
    "\n",
    "    \n",
    "class HoldAtNPlayer(PigPlayer):\n",
    "    def __init__(self, hold_at: int) -> None:\n",
    "        super().__init__()\n",
    "        self.hold_at = hold_at\n",
    "\n",
    "    def keep_rolling(self) -> bool:\n",
    "        super().keep_rolling()\n",
    "        return sum(self.turn_rolls) < self.hold_at\n",
    "    \n",
    "class RandomPlayer(PigPlayer):\n",
    "    def keep_rolling(self) -> bool:\n",
    "        super().keep_rolling()\n",
    "        return random.choice([True, False])\n",
    "    \n",
    "class NBehindPlayer(PigPlayer):\n",
    "    def __init__(self, behind_by: int) -> None:\n",
    "        super().__init__(behind_by = behind_by)\n",
    "\n",
    "    def keep_rolling(self) -> bool:\n",
    "        super().keep_rolling()\n",
    "        return sum(self.turn_rolls) + self.score > self.game.other_player.score + self.behind_by\n",
    "    "
   ]
  },
  {
   "cell_type": "code",
   "execution_count": 32,
   "metadata": {},
   "outputs": [],
   "source": [
    "p1 = RollNTimesPlayer(2)\n",
    "p2 = HoldAtNPlayer(6)\n",
    "\n",
    "g = PigGame(p1, p2, [3, 4])"
   ]
  },
  {
   "cell_type": "code",
   "execution_count": 44,
   "metadata": {},
   "outputs": [
    {
     "name": "stderr",
     "output_type": "stream",
     "text": [
      "2025-02-05 23:59:04 | \u001b[32mINFO\u001b[0m | \u001b[34m3661408239.py:16\u001b[0m | HoldAtNPlayer(hold_at=6) is rolling\u001b[0m\n",
      "2025-02-05 23:59:04 | \u001b[32mINFO\u001b[0m | \u001b[34m3661408239.py:19\u001b[0m | HoldAtNPlayer(hold_at=6) rolled a 6\u001b[0m\n"
     ]
    },
    {
     "data": {
      "text/plain": [
       "6"
      ]
     },
     "execution_count": 44,
     "metadata": {},
     "output_type": "execute_result"
    }
   ],
   "source": [
    "g.other_player.roll()"
   ]
  },
  {
   "cell_type": "code",
   "execution_count": 51,
   "metadata": {},
   "outputs": [
    {
     "ename": "TypeError",
     "evalue": "PigPlayer.__init__() takes 1 positional argument but 2 were given",
     "output_type": "error",
     "traceback": [
      "\u001b[0;31m---------------------------------------------------------------------------\u001b[0m",
      "\u001b[0;31mTypeError\u001b[0m                                 Traceback (most recent call last)",
      "Cell \u001b[0;32mIn[51], line 1\u001b[0m\n\u001b[0;32m----> 1\u001b[0m \u001b[38;5;28mprint\u001b[39m([\u001b[43mx\u001b[49m\u001b[43m(\u001b[49m\u001b[38;5;241;43m4\u001b[39;49m\u001b[43m)\u001b[49m \u001b[38;5;28;01mfor\u001b[39;00m x \u001b[38;5;129;01min\u001b[39;00m PigPlayer\u001b[38;5;241m.\u001b[39m__subclasses__()])\n",
      "\u001b[0;31mTypeError\u001b[0m: PigPlayer.__init__() takes 1 positional argument but 2 were given"
     ]
    }
   ],
   "source": [
    "print([x(4) for x in PigPlayer.__subclasses__()])"
   ]
  }
 ],
 "metadata": {
  "kernelspec": {
   "display_name": "Python 3",
   "language": "python",
   "name": "python3"
  },
  "language_info": {
   "codemirror_mode": {
    "name": "ipython",
    "version": 3
   },
   "file_extension": ".py",
   "mimetype": "text/x-python",
   "name": "python",
   "nbconvert_exporter": "python",
   "pygments_lexer": "ipython3",
   "version": "3.13.1"
  }
 },
 "nbformat": 4,
 "nbformat_minor": 2
}

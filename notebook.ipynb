{
 "cells": [
  {
   "cell_type": "code",
   "execution_count": 1,
   "metadata": {},
   "outputs": [],
   "source": [
    "import random\n",
    "from pig_logger import logger\n",
    "import pig\n",
    "import importlib\n",
    "\n",
    "importlib.reload(pig)"
   ]
  },
  {
   "cell_type": "code",
   "execution_count": 2,
   "metadata": {},
   "outputs": [],
   "source": [
    "p1 = pig.RollNTimesPlayer(2)\n",
    "p2 = pig.HoldAtNPlayer(6)\n",
    "\n",
    "g = pig.PigGame(p1, p2, [3, 4])"
   ]
  },
  {
   "cell_type": "code",
   "execution_count": 3,
   "metadata": {},
   "outputs": [
    {
     "name": "stderr",
     "output_type": "stream",
     "text": [
      "2025-02-07 20:40:47 | \u001b[32mINFO\u001b[0m | \u001b[34mpig.py:16\u001b[0m | RollNTimesPlayer(n_rolls=2) is rolling\u001b[0m\n",
      "2025-02-07 20:40:47 | \u001b[32mINFO\u001b[0m | \u001b[34mpig.py:19\u001b[0m | RollNTimesPlayer(n_rolls=2) rolled a 5\u001b[0m\n",
      "2025-02-07 20:40:47 | \u001b[32mINFO\u001b[0m | \u001b[34mpig.py:26\u001b[0m | RollNTimesPlayer(n_rolls=2) is rolling again\u001b[0m\n"
     ]
    },
    {
     "data": {
      "text/plain": [
       "10"
      ]
     },
     "execution_count": 3,
     "metadata": {},
     "output_type": "execute_result"
    }
   ],
   "source": [
    "g.other_player.roll()"
   ]
  },
  {
   "cell_type": "code",
   "execution_count": 51,
   "metadata": {},
   "outputs": [
    {
     "ename": "TypeError",
     "evalue": "PigPlayer.__init__() takes 1 positional argument but 2 were given",
     "output_type": "error",
     "traceback": [
      "\u001b[0;31m---------------------------------------------------------------------------\u001b[0m",
      "\u001b[0;31mTypeError\u001b[0m                                 Traceback (most recent call last)",
      "Cell \u001b[0;32mIn[51], line 1\u001b[0m\n\u001b[0;32m----> 1\u001b[0m \u001b[38;5;28mprint\u001b[39m([\u001b[43mx\u001b[49m\u001b[43m(\u001b[49m\u001b[38;5;241;43m4\u001b[39;49m\u001b[43m)\u001b[49m \u001b[38;5;28;01mfor\u001b[39;00m x \u001b[38;5;129;01min\u001b[39;00m PigPlayer\u001b[38;5;241m.\u001b[39m__subclasses__()])\n",
      "\u001b[0;31mTypeError\u001b[0m: PigPlayer.__init__() takes 1 positional argument but 2 were given"
     ]
    }
   ],
   "source": [
    "print([x(4) for x in PigPlayer.__subclasses__()])"
   ]
  }
 ],
 "metadata": {
  "kernelspec": {
   "display_name": ".venv",
   "language": "python",
   "name": "python3"
  },
  "language_info": {
   "codemirror_mode": {
    "name": "ipython",
    "version": 3
   },
   "file_extension": ".py",
   "mimetype": "text/x-python",
   "name": "python",
   "nbconvert_exporter": "python",
   "pygments_lexer": "ipython3",
   "version": "3.13.1"
  }
 },
 "nbformat": 4,
 "nbformat_minor": 2
}
